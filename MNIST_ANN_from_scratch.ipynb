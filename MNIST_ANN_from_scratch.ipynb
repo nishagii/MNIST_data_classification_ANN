{
 "cells": [
  {
   "cell_type": "markdown",
   "metadata": {
    "papermill": {
     "duration": 0.012295,
     "end_time": "2020-11-24T15:33:44.585418",
     "exception": false,
     "start_time": "2020-11-24T15:33:44.573123",
     "status": "completed"
    },
    "tags": []
   },
   "source": [
    "# Simple MNIST NN from scratch"
   ]
  },
  {
   "cell_type": "code",
   "execution_count": null,
   "metadata": {
    "_cell_guid": "b1076dfc-b9ad-4769-8c92-a6c4dae69d19",
    "_uuid": "8f2839f25d086af736a60e9eeb907d3b93b6e0e5",
    "papermill": {
     "duration": 3.947576,
     "end_time": "2020-11-24T15:33:48.546057",
     "exception": false,
     "start_time": "2020-11-24T15:33:44.598481",
     "status": "completed"
    },
    "tags": []
   },
   "outputs": [],
   "source": [
    "import numpy as np\n",
    "import pandas as pd\n",
    "from matplotlib import pyplot as plt\n",
    "\n",
    "# data = pd.read_csv('/Users/nishagi/myStuff/Datasets/mnist/train.csv')\n",
    "data = pd.read_csv('path/to/your/mnist/dataset.csv')"
   ]
  },
  {
   "cell_type": "code",
   "execution_count": 46,
   "metadata": {
    "papermill": {
     "duration": 0.795759,
     "end_time": "2020-11-24T15:33:49.353603",
     "exception": false,
     "start_time": "2020-11-24T15:33:48.557844",
     "status": "completed"
    },
    "tags": []
   },
   "outputs": [],
   "source": [
    "data = np.array(data)\n",
    "m, n = data.shape\n",
    "np.random.shuffle(data) # shuffle before splitting into dev and training sets\n",
    "\n",
    "data_dev = data[0:1000].T\n",
    "Y_dev = data_dev[0]\n",
    "X_dev = data_dev[1:n]\n",
    "X_dev = X_dev / 255.\n",
    "\n",
    "data_train = data[1000:m].T\n",
    "Y_train = data_train[0]\n",
    "X_train = data_train[1:n]\n",
    "X_train = X_train / 255.\n",
    "_,m_train = X_train.shape"
   ]
  },
  {
   "cell_type": "code",
   "execution_count": 47,
   "metadata": {
    "papermill": {
     "duration": 0.023743,
     "end_time": "2020-11-24T15:33:49.389054",
     "exception": false,
     "start_time": "2020-11-24T15:33:49.365311",
     "status": "completed"
    },
    "tags": []
   },
   "outputs": [
    {
     "data": {
      "text/plain": [
       "array([9, 5, 7, ..., 1, 7, 0])"
      ]
     },
     "execution_count": 47,
     "metadata": {},
     "output_type": "execute_result"
    }
   ],
   "source": [
    "Y_train"
   ]
  },
  {
   "cell_type": "code",
   "execution_count": 48,
   "metadata": {
    "papermill": {
     "duration": 0.035762,
     "end_time": "2020-11-24T15:33:49.460906",
     "exception": false,
     "start_time": "2020-11-24T15:33:49.425144",
     "status": "completed"
    },
    "tags": []
   },
   "outputs": [],
   "source": [
    "def init_params():\n",
    "    W1 = np.random.randn(128, 784) * 0.01  # Wider hidden layer (128 units)\n",
    "    b1 = np.zeros((128, 1))\n",
    "    W2 = np.random.randn(10, 128) * 0.01   # Updated for new shape\n",
    "    b2 = np.zeros((10, 1))\n",
    "    return W1, b1, W2, b2\n",
    "\n",
    "def ReLU(Z):\n",
    "    return np.maximum(Z, 0)\n",
    "\n",
    "def softmax(Z):\n",
    "    A = np.exp(Z) / sum(np.exp(Z))\n",
    "    return A\n",
    "    \n",
    "def forward_prop(W1, b1, W2, b2, X):\n",
    "    Z1 = W1.dot(X) + b1\n",
    "    A1 = ReLU(Z1)\n",
    "    Z2 = W2.dot(A1) + b2\n",
    "    A2 = softmax(Z2)\n",
    "    return Z1, A1, Z2, A2\n",
    "\n",
    "def ReLU_deriv(Z):\n",
    "    return Z > 0\n",
    "\n",
    "def one_hot(Y):\n",
    "    one_hot_Y = np.zeros((Y.size, Y.max() + 1))\n",
    "    one_hot_Y[np.arange(Y.size), Y] = 1\n",
    "    one_hot_Y = one_hot_Y.T\n",
    "    return one_hot_Y\n",
    "\n",
    "def backward_prop(Z1, A1, Z2, A2, W1, W2, X, Y):\n",
    "    one_hot_Y = one_hot(Y)\n",
    "    dZ2 = A2 - one_hot_Y\n",
    "    dW2 = 1 / m * dZ2.dot(A1.T)\n",
    "    db2 = 1 / m * np.sum(dZ2)\n",
    "    dZ1 = W2.T.dot(dZ2) * ReLU_deriv(Z1)\n",
    "    dW1 = 1 / m * dZ1.dot(X.T)\n",
    "    db1 = 1 / m * np.sum(dZ1)\n",
    "    return dW1, db1, dW2, db2\n",
    "\n",
    "def update_params(W1, b1, W2, b2, dW1, db1, dW2, db2, alpha):\n",
    "    W1 = W1 - alpha * dW1\n",
    "    b1 = b1 - alpha * db1    \n",
    "    W2 = W2 - alpha * dW2  \n",
    "    b2 = b2 - alpha * db2    \n",
    "    return W1, b1, W2, b2"
   ]
  },
  {
   "cell_type": "code",
   "execution_count": 49,
   "metadata": {
    "papermill": {
     "duration": 0.026744,
     "end_time": "2020-11-24T15:33:49.499906",
     "exception": false,
     "start_time": "2020-11-24T15:33:49.473162",
     "status": "completed"
    },
    "tags": []
   },
   "outputs": [],
   "source": [
    "def get_predictions(A2):\n",
    "    return np.argmax(A2, 0)\n",
    "\n",
    "def get_accuracy(predictions, Y):\n",
    "    print(predictions, Y)\n",
    "    return np.sum(predictions == Y) / Y.size\n",
    "\n",
    "def gradient_descent(X, Y, alpha, iterations):\n",
    "    W1, b1, W2, b2 = init_params()\n",
    "    for i in range(iterations):\n",
    "        Z1, A1, Z2, A2 = forward_prop(W1, b1, W2, b2, X)\n",
    "        dW1, db1, dW2, db2 = backward_prop(Z1, A1, Z2, A2, W1, W2, X, Y)\n",
    "        W1, b1, W2, b2 = update_params(W1, b1, W2, b2, dW1, db1, dW2, db2, alpha)\n",
    "        if i % 10 == 0:\n",
    "            print(\"Iteration: \", i)\n",
    "            predictions = get_predictions(A2)\n",
    "            print(get_accuracy(predictions, Y))\n",
    "    return W1, b1, W2, b2"
   ]
  },
  {
   "cell_type": "code",
   "execution_count": 50,
   "metadata": {
    "papermill": {
     "duration": 44.403186,
     "end_time": "2020-11-24T15:34:33.915380",
     "exception": false,
     "start_time": "2020-11-24T15:33:49.512194",
     "status": "completed"
    },
    "tags": []
   },
   "outputs": [
    {
     "name": "stdout",
     "output_type": "stream",
     "text": [
      "Iteration:  0\n",
      "[9 9 6 ... 9 5 0] [9 5 7 ... 1 7 0]\n",
      "0.08314634146341464\n",
      "Iteration:  10\n",
      "[9 9 9 ... 1 9 0] [9 5 7 ... 1 7 0]\n",
      "0.2724878048780488\n",
      "Iteration:  20\n",
      "[9 3 9 ... 1 9 0] [9 5 7 ... 1 7 0]\n",
      "0.3261951219512195\n",
      "Iteration:  30\n",
      "[9 3 9 ... 1 9 0] [9 5 7 ... 1 7 0]\n",
      "0.40868292682926827\n",
      "Iteration:  40\n",
      "[9 3 1 ... 1 7 0] [9 5 7 ... 1 7 0]\n",
      "0.51\n",
      "Iteration:  50\n",
      "[9 3 1 ... 1 7 0] [9 5 7 ... 1 7 0]\n",
      "0.5783414634146341\n",
      "Iteration:  60\n",
      "[9 3 1 ... 1 7 0] [9 5 7 ... 1 7 0]\n",
      "0.638390243902439\n",
      "Iteration:  70\n",
      "[9 3 1 ... 1 7 0] [9 5 7 ... 1 7 0]\n",
      "0.6973658536585365\n",
      "Iteration:  80\n",
      "[4 3 1 ... 1 7 0] [9 5 7 ... 1 7 0]\n",
      "0.743609756097561\n",
      "Iteration:  90\n",
      "[4 3 7 ... 1 7 0] [9 5 7 ... 1 7 0]\n",
      "0.7763658536585366\n",
      "Iteration:  100\n",
      "[4 3 7 ... 1 7 0] [9 5 7 ... 1 7 0]\n",
      "0.7967804878048781\n",
      "Iteration:  110\n",
      "[4 3 7 ... 1 7 0] [9 5 7 ... 1 7 0]\n",
      "0.813170731707317\n",
      "Iteration:  120\n",
      "[4 3 7 ... 1 7 0] [9 5 7 ... 1 7 0]\n",
      "0.8266097560975609\n",
      "Iteration:  130\n",
      "[9 3 7 ... 1 7 0] [9 5 7 ... 1 7 0]\n",
      "0.8369512195121951\n",
      "Iteration:  140\n",
      "[9 3 7 ... 1 7 0] [9 5 7 ... 1 7 0]\n",
      "0.8453414634146341\n",
      "Iteration:  150\n",
      "[9 8 7 ... 1 7 0] [9 5 7 ... 1 7 0]\n",
      "0.8523414634146341\n",
      "Iteration:  160\n",
      "[9 8 7 ... 1 7 0] [9 5 7 ... 1 7 0]\n",
      "0.8581219512195122\n",
      "Iteration:  170\n",
      "[9 8 7 ... 1 7 0] [9 5 7 ... 1 7 0]\n",
      "0.8629512195121951\n",
      "Iteration:  180\n",
      "[9 8 7 ... 1 7 0] [9 5 7 ... 1 7 0]\n",
      "0.8678048780487805\n",
      "Iteration:  190\n",
      "[9 8 7 ... 1 7 0] [9 5 7 ... 1 7 0]\n",
      "0.8716829268292683\n",
      "Iteration:  200\n",
      "[9 8 7 ... 1 7 0] [9 5 7 ... 1 7 0]\n",
      "0.8749268292682927\n",
      "Iteration:  210\n",
      "[9 8 7 ... 1 7 0] [9 5 7 ... 1 7 0]\n",
      "0.8779756097560976\n",
      "Iteration:  220\n",
      "[9 8 7 ... 1 7 0] [9 5 7 ... 1 7 0]\n",
      "0.8800731707317073\n",
      "Iteration:  230\n",
      "[9 8 7 ... 1 7 0] [9 5 7 ... 1 7 0]\n",
      "0.882390243902439\n",
      "Iteration:  240\n",
      "[9 8 7 ... 1 7 0] [9 5 7 ... 1 7 0]\n",
      "0.8844390243902439\n",
      "Iteration:  250\n",
      "[9 8 7 ... 1 7 0] [9 5 7 ... 1 7 0]\n",
      "0.8859756097560976\n",
      "Iteration:  260\n",
      "[9 8 7 ... 1 7 0] [9 5 7 ... 1 7 0]\n",
      "0.8878048780487805\n",
      "Iteration:  270\n",
      "[9 8 7 ... 1 7 0] [9 5 7 ... 1 7 0]\n",
      "0.8894390243902439\n",
      "Iteration:  280\n",
      "[9 8 7 ... 1 7 0] [9 5 7 ... 1 7 0]\n",
      "0.8910243902439025\n",
      "Iteration:  290\n",
      "[9 8 7 ... 1 7 0] [9 5 7 ... 1 7 0]\n",
      "0.892219512195122\n",
      "Iteration:  300\n",
      "[9 8 7 ... 1 7 0] [9 5 7 ... 1 7 0]\n",
      "0.8934878048780488\n",
      "Iteration:  310\n",
      "[9 8 7 ... 1 7 0] [9 5 7 ... 1 7 0]\n",
      "0.8945853658536586\n",
      "Iteration:  320\n",
      "[9 8 7 ... 1 7 0] [9 5 7 ... 1 7 0]\n",
      "0.8952439024390244\n",
      "Iteration:  330\n",
      "[9 8 7 ... 1 7 0] [9 5 7 ... 1 7 0]\n",
      "0.8964146341463415\n",
      "Iteration:  340\n",
      "[9 8 7 ... 1 7 0] [9 5 7 ... 1 7 0]\n",
      "0.8972682926829268\n",
      "Iteration:  350\n",
      "[9 8 7 ... 1 7 0] [9 5 7 ... 1 7 0]\n",
      "0.8983170731707317\n",
      "Iteration:  360\n",
      "[9 8 7 ... 1 7 0] [9 5 7 ... 1 7 0]\n",
      "0.898829268292683\n",
      "Iteration:  370\n",
      "[9 8 7 ... 1 7 0] [9 5 7 ... 1 7 0]\n",
      "0.8995609756097561\n",
      "Iteration:  380\n",
      "[9 5 7 ... 1 7 0] [9 5 7 ... 1 7 0]\n",
      "0.9004390243902439\n",
      "Iteration:  390\n",
      "[9 5 7 ... 1 7 0] [9 5 7 ... 1 7 0]\n",
      "0.9008048780487805\n",
      "Iteration:  400\n",
      "[9 5 7 ... 1 7 0] [9 5 7 ... 1 7 0]\n",
      "0.9016829268292683\n",
      "Iteration:  410\n",
      "[9 5 7 ... 1 7 0] [9 5 7 ... 1 7 0]\n",
      "0.9020731707317073\n",
      "Iteration:  420\n",
      "[9 5 7 ... 1 7 0] [9 5 7 ... 1 7 0]\n",
      "0.902219512195122\n",
      "Iteration:  430\n",
      "[9 5 7 ... 1 7 0] [9 5 7 ... 1 7 0]\n",
      "0.9026829268292683\n",
      "Iteration:  440\n",
      "[9 5 7 ... 1 7 0] [9 5 7 ... 1 7 0]\n",
      "0.9033170731707317\n",
      "Iteration:  450\n",
      "[9 5 7 ... 1 7 0] [9 5 7 ... 1 7 0]\n",
      "0.9037804878048781\n",
      "Iteration:  460\n",
      "[9 5 7 ... 1 7 0] [9 5 7 ... 1 7 0]\n",
      "0.9041219512195122\n",
      "Iteration:  470\n",
      "[9 5 7 ... 1 7 0] [9 5 7 ... 1 7 0]\n",
      "0.9044878048780488\n",
      "Iteration:  480\n",
      "[9 5 7 ... 1 7 0] [9 5 7 ... 1 7 0]\n",
      "0.9049024390243903\n",
      "Iteration:  490\n",
      "[9 5 7 ... 1 7 0] [9 5 7 ... 1 7 0]\n",
      "0.9052439024390244\n"
     ]
    }
   ],
   "source": [
    "W1, b1, W2, b2 = gradient_descent(X_train, Y_train, 0.10, 500)"
   ]
  },
  {
   "cell_type": "markdown",
   "metadata": {
    "papermill": {
     "duration": 0.03222,
     "end_time": "2020-11-24T15:34:33.980634",
     "exception": false,
     "start_time": "2020-11-24T15:34:33.948414",
     "status": "completed"
    },
    "tags": []
   },
   "source": [
    "~90% accuracy on training set."
   ]
  },
  {
   "cell_type": "code",
   "execution_count": 51,
   "metadata": {
    "papermill": {
     "duration": 0.048197,
     "end_time": "2020-11-24T15:34:34.061656",
     "exception": false,
     "start_time": "2020-11-24T15:34:34.013459",
     "status": "completed"
    },
    "tags": []
   },
   "outputs": [],
   "source": [
    "def make_predictions(X, W1, b1, W2, b2):\n",
    "    _, _, _, A2 = forward_prop(W1, b1, W2, b2, X)\n",
    "    predictions = get_predictions(A2)\n",
    "    return predictions\n",
    "\n",
    "def test_prediction(index, W1, b1, W2, b2):\n",
    "    current_image = X_train[:, index, None]\n",
    "    prediction = make_predictions(X_train[:, index, None], W1, b1, W2, b2)\n",
    "    label = Y_train[index]\n",
    "    print(\"Prediction: \", prediction)\n",
    "    print(\"Label: \", label)\n",
    "    \n",
    "    current_image = current_image.reshape((28, 28)) * 255\n",
    "    plt.gray()\n",
    "    plt.imshow(current_image, interpolation='nearest')\n",
    "    plt.show()"
   ]
  },
  {
   "cell_type": "markdown",
   "metadata": {
    "papermill": {
     "duration": 0.032382,
     "end_time": "2020-11-24T15:34:34.126664",
     "exception": false,
     "start_time": "2020-11-24T15:34:34.094282",
     "status": "completed"
    },
    "tags": []
   },
   "source": [
    "Let's look at a couple of examples:"
   ]
  },
  {
   "cell_type": "code",
   "execution_count": 52,
   "metadata": {
    "papermill": {
     "duration": 0.699008,
     "end_time": "2020-11-24T15:34:34.858375",
     "exception": false,
     "start_time": "2020-11-24T15:34:34.159367",
     "status": "completed"
    },
    "tags": []
   },
   "outputs": [
    {
     "name": "stdout",
     "output_type": "stream",
     "text": [
      "Prediction:  [9]\n",
      "Label:  9\n"
     ]
    },
    {
     "data": {
      "image/png": "[encoded data removed]",
      "text/plain": [
       "<Figure size 640x480 with 1 Axes>"
      ]
     },
     "metadata": {},
     "output_type": "display_data"
    },
    {
     "name": "stdout",
     "output_type": "stream",
     "text": [
      "Prediction:  [5]\n",
      "Label:  5\n"
     ]
    },
    {
     "data": {
      "image/png": "[encoded data removed]",
      "text/plain": [
       "<Figure size 640x480 with 1 Axes>"
      ]
     },
     "metadata": {},
     "output_type": "display_data"
    },
    {
     "name": "stdout",
     "output_type": "stream",
     "text": [
      "Prediction:  [7]\n",
      "Label:  7\n"
     ]
    },
    {
     "data": {
      "image/png": "[encoded data removed]",
      "text/plain": [
       "<Figure size 640x480 with 1 Axes>"
      ]
     },
     "metadata": {},
     "output_type": "display_data"
    },
    {
     "name": "stdout",
     "output_type": "stream",
     "text": [
      "Prediction:  [2]\n",
      "Label:  2\n"
     ]
    },
    {
     "data": {
      "image/png": "[encoded data removed]",
      "text/plain": [
       "<Figure size 640x480 with 1 Axes>"
      ]
     },
     "metadata": {},
     "output_type": "display_data"
    }
   ],
   "source": [
    "test_prediction(0, W1, b1, W2, b2)\n",
    "test_prediction(1, W1, b1, W2, b2)\n",
    "test_prediction(2, W1, b1, W2, b2)\n",
    "test_prediction(3, W1, b1, W2, b2)"
   ]
  },
  {
   "cell_type": "markdown",
   "metadata": {
    "papermill": {
     "duration": 0.037333,
     "end_time": "2020-11-24T15:34:34.933186",
     "exception": false,
     "start_time": "2020-11-24T15:34:34.895853",
     "status": "completed"
    },
    "tags": []
   },
   "source": [
    "Finally, let's find the accuracy on the dev set:"
   ]
  },
  {
   "cell_type": "code",
   "execution_count": 53,
   "metadata": {
    "papermill": {
     "duration": 0.062985,
     "end_time": "2020-11-24T15:34:35.033457",
     "exception": false,
     "start_time": "2020-11-24T15:34:34.970472",
     "status": "completed"
    },
    "tags": []
   },
   "outputs": [
    {
     "name": "stdout",
     "output_type": "stream",
     "text": [
      "[2 1 5 3 8 5 6 1 6 9 3 4 3 5 0 9 0 7 9 5 3 8 8 2 2 0 6 4 2 1 0 5 9 7 4 1 3\n",
      " 8 8 9 2 1 8 0 9 0 0 2 3 9 6 6 6 1 4 3 9 1 6 5 4 6 1 0 1 8 1 8 5 5 6 2 0 8\n",
      " 9 9 7 6 5 3 7 3 2 4 1 2 3 6 8 6 8 0 7 7 1 4 4 1 2 2 3 0 2 7 2 5 4 3 9 5 0\n",
      " 2 7 4 8 9 5 2 7 1 8 7 6 1 2 6 6 0 6 1 6 0 6 2 1 2 8 0 3 0 2 2 0 7 8 0 4 6\n",
      " 6 0 3 5 5 6 6 2 6 3 0 8 2 8 5 5 0 4 1 3 1 5 7 9 1 2 7 7 0 8 5 1 2 9 1 7 0\n",
      " 1 2 9 0 3 2 9 5 0 8 6 8 1 1 4 1 9 4 7 2 1 0 4 6 0 8 3 1 2 6 1 4 0 8 1 0 7\n",
      " 2 4 6 4 5 6 1 1 6 9 6 3 0 0 4 0 0 1 9 0 4 7 1 0 6 1 0 9 6 9 8 4 5 6 2 0 8\n",
      " 0 7 7 7 9 9 1 2 7 8 1 4 9 6 7 3 4 6 6 7 6 3 0 4 9 5 5 4 5 5 4 2 9 5 6 1 9\n",
      " 2 8 0 2 1 0 8 3 9 9 1 0 5 3 2 1 1 1 1 6 4 6 5 8 0 9 9 3 1 6 0 6 6 3 5 9 9\n",
      " 7 6 9 4 2 4 9 6 8 1 9 8 2 7 9 3 7 1 1 9 6 1 7 3 0 4 9 1 0 9 6 5 9 5 7 0 3\n",
      " 7 1 3 0 5 8 3 3 4 2 3 8 6 5 8 7 9 2 6 5 2 4 0 2 5 9 9 1 1 4 9 4 9 7 3 3 3\n",
      " 0 8 3 5 8 9 0 0 1 6 3 8 4 4 7 1 9 4 7 5 5 3 5 7 9 8 9 3 0 4 9 7 5 2 0 7 8\n",
      " 9 6 0 0 3 9 0 4 9 1 4 8 4 9 2 2 0 0 4 5 5 3 5 0 4 6 3 4 6 2 5 5 5 5 3 8 5\n",
      " 8 6 3 5 4 4 8 5 6 0 6 4 2 4 6 3 2 1 8 6 6 6 2 4 7 1 8 4 6 0 0 4 0 1 1 0 4\n",
      " 0 4 4 0 8 7 9 3 8 8 5 5 6 7 6 3 7 7 8 7 0 3 4 1 5 4 0 7 8 7 4 7 5 4 8 3 0\n",
      " 4 2 6 7 1 3 0 3 7 6 9 8 2 8 6 6 6 6 1 6 0 8 9 7 9 3 3 1 7 4 2 2 3 5 7 5 1\n",
      " 4 8 6 9 8 0 2 1 5 3 8 6 3 8 9 5 2 2 3 1 6 8 4 4 1 8 5 1 0 3 4 3 2 4 1 7 2\n",
      " 2 5 3 0 1 3 5 4 2 9 7 1 3 3 3 5 9 8 4 7 7 8 9 1 9 1 3 2 3 9 6 0 2 6 0 7 3\n",
      " 1 0 5 8 0 4 2 7 4 4 7 2 0 5 2 6 6 2 8 6 9 8 9 0 9 8 2 5 1 4 3 1 4 8 8 5 2\n",
      " 1 5 9 7 1 8 0 3 6 8 9 4 2 4 9 2 1 4 2 7 5 6 0 8 7 0 4 8 5 2 4 3 7 7 4 2 9\n",
      " 3 2 9 0 4 5 5 5 8 4 1 9 0 9 0 5 9 6 0 4 9 2 5 7 1 1 8 9 8 8 7 2 7 9 2 7 7\n",
      " 0 1 0 5 1 9 2 6 4 4 5 2 5 6 2 9 4 3 9 2 9 0 7 8 0 1 2 6 8 6 6 3 0 0 3 4 2\n",
      " 6 7 3 6 9 5 6 1 2 7 8 7 1 4 3 9 4 5 5 7 6 4 7 1 7 1 9 1 1 4 0 7 1 9 7 6 3\n",
      " 7 5 9 6 0 4 5 9 9 4 8 9 0 9 2 6 9 6 4 2 0 5 3 8 1 7 4 9 9 2 4 2 7 9 1 2 2\n",
      " 3 1 6 9 7 0 1 9 3 5 4 5 0 0 1 5 4 6 7 2 9 0 6 0 9 3 2 8 3 0 4 0 6 8 8 1 3\n",
      " 6 8 5 3 6 3 8 5 3 8 8 6 8 0 5 2 7 8 4 7 7 0 7 8 1 0 1 8 0 1 2 2 8 1 9 9 2\n",
      " 2 6 1 0 7 4 2 5 3 7 0 2 1 9 8 5 6 1 2 2 9 0 1 8 5 4 8 0 2 6 9 2 7 9 9 5 4\n",
      " 7] [2 1 5 8 8 0 6 1 6 9 3 4 3 8 0 9 0 7 9 5 3 8 8 2 2 0 6 4 2 1 0 3 2 7 4 1 8\n",
      " 8 8 9 2 1 8 0 4 9 0 2 3 9 6 6 6 1 4 3 9 1 6 5 4 6 1 0 1 8 1 8 5 5 6 2 0 8\n",
      " 9 8 7 6 5 3 9 0 2 7 1 2 3 6 1 6 8 0 7 7 1 7 4 1 2 2 3 0 2 7 2 5 4 4 9 5 0\n",
      " 7 2 4 8 9 5 2 7 1 3 7 6 1 6 6 6 0 6 1 6 0 6 2 8 2 8 0 3 2 2 2 0 7 8 0 4 6\n",
      " 5 0 3 5 5 6 6 2 6 3 0 0 2 8 5 5 0 4 1 3 1 5 7 4 1 2 7 7 0 8 5 1 2 9 1 7 0\n",
      " 3 2 9 0 3 2 9 5 0 6 6 8 1 1 4 1 9 4 7 2 1 0 4 6 5 3 3 1 2 6 1 4 0 8 1 0 7\n",
      " 2 4 6 4 5 2 1 1 6 9 6 3 0 0 4 0 0 1 9 0 4 7 1 0 6 1 0 9 6 7 8 4 5 6 2 0 9\n",
      " 0 7 7 7 9 9 1 2 9 8 1 4 9 6 7 8 4 6 6 7 6 3 0 4 9 5 6 4 5 5 4 2 9 5 6 1 7\n",
      " 2 8 0 2 1 0 8 3 9 9 1 0 5 3 2 1 8 1 1 6 4 5 5 8 0 9 9 3 1 6 0 6 6 3 5 9 9\n",
      " 7 6 2 4 2 4 9 6 8 1 9 8 3 9 9 3 7 1 1 9 6 1 7 3 0 4 9 1 0 7 6 5 9 5 7 0 3\n",
      " 7 1 3 0 5 8 3 3 4 2 3 8 6 5 2 7 9 7 6 5 2 4 0 3 5 9 4 1 1 4 9 4 3 7 3 3 3\n",
      " 0 8 3 5 8 9 0 0 1 2 3 8 4 2 7 1 9 4 9 5 5 3 5 7 9 8 9 3 0 4 9 7 5 2 0 2 8\n",
      " 9 6 0 0 5 7 0 4 9 1 4 8 4 9 2 2 0 0 4 5 5 3 5 0 4 4 5 4 6 2 5 5 5 0 3 8 5\n",
      " 8 6 3 5 9 4 8 1 6 0 6 4 2 4 6 3 9 1 8 6 6 6 2 4 7 1 3 4 6 0 0 4 0 1 1 0 7\n",
      " 0 4 4 0 8 7 9 3 8 8 5 5 6 7 6 3 7 7 8 7 0 3 4 1 5 4 0 7 2 7 4 7 5 4 8 3 0\n",
      " 4 2 6 7 1 3 0 3 7 6 9 8 2 8 6 5 6 6 1 6 0 8 9 7 9 3 3 1 7 4 2 2 3 5 7 0 1\n",
      " 5 8 6 4 8 0 2 1 5 3 8 6 3 8 7 5 2 3 3 1 6 8 4 4 1 9 7 1 0 3 7 3 2 4 1 7 2\n",
      " 5 5 3 0 1 3 5 4 2 9 7 1 3 3 3 5 9 8 4 7 7 8 9 1 9 1 5 2 3 9 6 0 2 6 0 7 3\n",
      " 1 0 5 8 0 4 2 7 4 9 7 2 0 5 2 6 6 2 8 6 9 8 9 0 9 8 2 5 1 4 3 1 1 8 0 5 2\n",
      " 1 5 9 7 1 8 0 3 6 8 9 4 2 4 9 2 1 2 2 7 5 6 0 8 7 0 4 8 5 2 4 3 7 7 4 2 9\n",
      " 3 2 9 0 4 8 5 5 8 4 9 4 0 7 0 5 9 6 0 6 9 2 9 7 1 1 8 9 8 2 7 2 7 7 2 2 7\n",
      " 0 1 0 5 5 9 2 6 4 4 5 2 3 6 2 9 4 3 9 2 9 0 7 8 0 1 2 6 8 6 6 3 0 0 3 4 2\n",
      " 6 7 3 6 4 5 6 1 6 9 8 7 1 4 3 9 4 5 5 7 6 4 7 1 7 1 9 1 1 4 0 7 1 7 7 4 3\n",
      " 7 3 9 6 0 4 5 8 7 4 8 7 0 9 2 6 5 6 4 2 0 5 3 5 1 7 4 4 4 2 4 2 9 9 1 2 2\n",
      " 3 1 6 4 7 0 1 9 3 5 2 5 0 0 8 5 4 6 7 2 9 0 6 0 9 3 2 8 3 0 4 0 6 8 8 1 3\n",
      " 6 8 2 3 6 3 8 5 3 8 5 6 8 0 5 2 7 8 4 7 7 0 7 8 1 0 1 8 0 1 2 2 8 1 9 9 2\n",
      " 2 6 1 0 7 9 2 5 3 7 0 2 9 9 8 6 6 1 2 2 9 0 1 8 5 4 8 0 2 6 7 2 7 9 4 5 4\n",
      " 7]\n"
     ]
    },
    {
     "data": {
      "text/plain": [
       "np.float64(0.889)"
      ]
     },
     "execution_count": 53,
     "metadata": {},
     "output_type": "execute_result"
    }
   ],
   "source": [
    "dev_predictions = make_predictions(X_dev, W1, b1, W2, b2)\n",
    "get_accuracy(dev_predictions, Y_dev)"
   ]
  },
  {
   "cell_type": "code",
   "execution_count": 54,
   "metadata": {},
   "outputs": [
    {
     "name": "stdout",
     "output_type": "stream",
     "text": [
      "Prediction:  [5]\n",
      "Label:  5\n"
     ]
    },
    {
     "data": {
      "image/png": "[encoded data removed]",
      "text/plain": [
       "<Figure size 640x480 with 1 Axes>"
      ]
     },
     "metadata": {},
     "output_type": "display_data"
    }
   ],
   "source": [
    "test_prediction(106, W1, b1, W2, b2)"
   ]
  },
  {
   "cell_type": "code",
   "execution_count": null,
   "metadata": {},
   "outputs": [],
   "source": []
  }
 ],
 "metadata": {
  "kernelspec": {
   "display_name": "Python 3 (ipykernel)",
   "language": "python",
   "name": "python3"
  },
  "language_info": {
   "codemirror_mode": {
    "name": "ipython",
    "version": 3
   },
   "file_extension": ".py",
   "mimetype": "text/x-python",
   "name": "python",
   "nbconvert_exporter": "python",
   "pygments_lexer": "ipython3",
   "version": "3.13.5"
  },
  "papermill": {
   "duration": 55.320944,
   "end_time": "2020-11-24T15:34:35.258832",
   "environment_variables": {},
   "exception": null,
   "input_path": "__notebook__.ipynb",
   "output_path": "__notebook__.ipynb",
   "parameters": {},
   "start_time": "2020-11-24T15:33:39.937888",
   "version": "2.1.0"
  }
 },
 "nbformat": 4,
 "nbformat_minor": 4
}
